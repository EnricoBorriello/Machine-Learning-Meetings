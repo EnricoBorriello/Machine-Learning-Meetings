{
 "cells": [
  {
   "cell_type": "markdown",
   "metadata": {
    "collapsed": true
   },
   "source": [
    "# ML 02 - Gradient Descent\n",
    "\n",
    "## Atmospheric CO<sub>2</sub> levels\n",
    "\n",
    "Download the data file **``co2_mm_mlo.txt``** from <br />\n",
    "https://climate.nasa.gov/vital-signs/carbon-dioxide/ <br \\>\n",
    "(Same data set as in ML 01 - Logistic Regression)"
   ]
  },
  {
   "cell_type": "code",
   "execution_count": null,
   "metadata": {
    "collapsed": true
   },
   "outputs": [],
   "source": [
    "import numpy as np\n",
    "import pandas as pd\n",
    "import matplotlib.pyplot as plt\n",
    "import seaborn\n",
    "%matplotlib inline "
   ]
  },
  {
   "cell_type": "code",
   "execution_count": null,
   "metadata": {
    "collapsed": false
   },
   "outputs": [],
   "source": [
    "df = pd.read_table('co2_mm_mlo.txt', skiprows=72, delim_whitespace=True)"
   ]
  },
  {
   "cell_type": "code",
   "execution_count": null,
   "metadata": {
    "collapsed": false
   },
   "outputs": [],
   "source": [
    "x = np.array(df[[2]])\n",
    "Y = np.array(df[[4]])"
   ]
  },
  {
   "cell_type": "markdown",
   "metadata": {},
   "source": [
    "We've seen that the 2nd order polinomial $ y = w_0 + w_1 x + w_2 x^2 $, with parameters\n",
    "\n",
    "$w_0 = 4.75\\times 10^4$,\n",
    "\n",
    "$w_1 = -49.0$ , and\n",
    "\n",
    "$w_2 = 1.27 \\times 10^{-2}$,\n",
    "\n",
    "represents a good fit for this data set.<br \\>\n",
    "Here we want to solve this optimization problem again, using a **gradient descent** numerical algorithm."
   ]
  },
  {
   "cell_type": "markdown",
   "metadata": {},
   "source": [
    "# Gradient Descent\n",
    "\n",
    "$\n",
    "\\textrm{Gradient:} \n",
    "\\quad\n",
    "\\nabla_{\\theta}J = \\frac{1}{m}X^T (X\\theta-Y)\n",
    "$\n",
    "\n",
    "$\n",
    "\\textrm{Gradient descent:} \n",
    "\\quad\n",
    "\\theta = \\theta -\\epsilon\\ \\nabla_{\\theta}J \\quad \\textrm{until convergence to } \\theta^*\n",
    "$"
   ]
  },
  {
   "cell_type": "code",
   "execution_count": null,
   "metadata": {
    "collapsed": true
   },
   "outputs": [],
   "source": [
    "def gradient_linear(X,Y,theta):\n",
    "    return np.dot(X.T,(np.dot(X,theta)-Y))/len(X)"
   ]
  },
  {
   "cell_type": "markdown",
   "metadata": {},
   "source": [
    "### Feature Normalization\n",
    "\n",
    "$$\n",
    "\\chi_0 = 1\n",
    "\\quad , \\quad\n",
    "\\chi_1 = \\frac{x-\\langle x\\rangle}{\\sigma_x}\n",
    "\\quad , \\quad\n",
    "\\chi_2 = \\frac{x^2-\\langle x^2\\rangle}{\\sigma_{x^2}}\n",
    "$$\n",
    "\n",
    "Therefore,\n",
    "\n",
    "\\begin{eqnarray}\n",
    "y  & = & w_0 + w_1 x + w_2 x^2  \\\\\n",
    "   & = & \\omega_0 + \\omega_1 \\chi_1 + \\omega_2 \\chi_2\n",
    "\\end{eqnarray}\n",
    "\n",
    "With \n",
    "\n",
    "\\begin{eqnarray}\n",
    "\\omega_0 & = & w_0 + \\langle x\\rangle w_1 + \\langle x^2\\rangle w_2   \\\\[1mm]\n",
    "\\omega_1 & = & \\sigma_x w_1\\\\[1mm]\n",
    "\\omega_2 & = & \\sigma_x^2 w_2\n",
    "\\end{eqnarray}\n",
    "\n",
    "or\n",
    "\n",
    "\\begin{eqnarray}\n",
    "w_0 & = & \\frac{\\omega_1 }{ \\sigma_x }   \\\\[2mm]\n",
    "w_1 & = & \\frac{\\omega_2 }{ \\sigma_{x^2} } \\\\[2mm]\n",
    "w_2 & = & \\omega_0 -\\frac{\\langle x\\rangle}{\\sigma_x} \\omega_1 -\\frac{\\langle x^2\\rangle}{\\sigma_{x^2}} \\omega_2\n",
    "\\end{eqnarray}\n"
   ]
  },
  {
   "cell_type": "code",
   "execution_count": null,
   "metadata": {
    "collapsed": false
   },
   "outputs": [],
   "source": [
    "chi0 = x**0;\n",
    "chi1 = (x-np.mean(x))/np.std(x);\n",
    "chi2 = (x**2-np.mean(x**2))/np.std(x**2);\n",
    "X = np.hstack((chi0 , chi1 , chi2))"
   ]
  },
  {
   "cell_type": "code",
   "execution_count": null,
   "metadata": {
    "collapsed": true
   },
   "outputs": [],
   "source": [
    "R = np.array([[1.,-np.mean(x**1)/np.std(x**1),-np.mean(x**2)/np.std(x**2)],\n",
    "[0.,1./np.std(x**1),0.],\n",
    "[0.,0.,1./np.std(x**2)]])"
   ]
  },
  {
   "cell_type": "code",
   "execution_count": null,
   "metadata": {
    "collapsed": true
   },
   "outputs": [],
   "source": [
    "theta = np.zeros((3,1))"
   ]
  },
  {
   "cell_type": "code",
   "execution_count": null,
   "metadata": {
    "collapsed": false
   },
   "outputs": [],
   "source": [
    "epsilon = .6"
   ]
  },
  {
   "cell_type": "code",
   "execution_count": null,
   "metadata": {
    "collapsed": false
   },
   "outputs": [],
   "source": [
    "for i in range(0, int(1e+6)):\n",
    "    theta = theta - epsilon*gradient_linear(X,Y,theta)\n",
    "print theta"
   ]
  },
  {
   "cell_type": "code",
   "execution_count": null,
   "metadata": {
    "collapsed": false
   },
   "outputs": [],
   "source": [
    "np.dot(R,theta)"
   ]
  },
  {
   "cell_type": "markdown",
   "metadata": {},
   "source": [
    "### Cost Function Visualization "
   ]
  },
  {
   "cell_type": "code",
   "execution_count": null,
   "metadata": {
    "collapsed": true
   },
   "outputs": [],
   "source": [
    "# Cost function\n",
    "def cost_function_linear(X,Y,theta):\n",
    "    return (X.dot(theta)-Y).T.dot(X.dot(theta)-Y)[0][0]/2./len(Y)"
   ]
  },
  {
   "cell_type": "code",
   "execution_count": null,
   "metadata": {
    "collapsed": false
   },
   "outputs": [],
   "source": [
    "theta = np.zeros((3,1))\n",
    "epsilon = 1.\n",
    "\n",
    "step=list()\n",
    "cost=list()\n",
    "\n",
    "for i in range(0, 1000):\n",
    "    for j in range(0,1000):\n",
    "        theta = theta - epsilon*gradient_linear(X,Y,theta)\n",
    "    step.append(i)\n",
    "    cost.append(cost_function_linear(X,Y,theta))\n",
    "plt.plot(step, cost,color='dodgerblue');"
   ]
  },
  {
   "cell_type": "code",
   "execution_count": null,
   "metadata": {
    "collapsed": false
   },
   "outputs": [],
   "source": [
    "print 'w0 = ' + '{:03.2f}'.format(np.dot(R,theta)[0][0])\n",
    "print 'w1 = ' + '{:03.2f}'.format(np.dot(R,theta)[1][0])\n",
    "print 'w2 = ' + '{:03.2f}'.format(np.dot(R,theta)[2][0])"
   ]
  }
 ],
 "metadata": {
  "kernelspec": {
   "display_name": "Python 2",
   "language": "python",
   "name": "python2"
  },
  "language_info": {
   "codemirror_mode": {
    "name": "ipython",
    "version": 2
   },
   "file_extension": ".py",
   "mimetype": "text/x-python",
   "name": "python",
   "nbconvert_exporter": "python",
   "pygments_lexer": "ipython2",
   "version": "2.7.12"
  }
 },
 "nbformat": 4,
 "nbformat_minor": 0
}
