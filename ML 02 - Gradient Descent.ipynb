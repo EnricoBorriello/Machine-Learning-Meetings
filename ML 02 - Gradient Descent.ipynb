{
 "cells": [
  {
   "cell_type": "markdown",
   "metadata": {},
   "source": [
    "# ML 02 - Gradient Descent\n",
    "\n",
    "## Atmospheric CO<sub>2</sub> levels\n",
    "\n",
    "Download the data file **``co2_mm_mlo.txt``** from <br />\n",
    "https://climate.nasa.gov/vital-signs/carbon-dioxide/ <br \\>\n",
    "(Same data set as in ML 01 - Logistic Regression)"
   ]
  },
  {
   "cell_type": "code",
   "execution_count": 1,
   "metadata": {},
   "outputs": [],
   "source": [
    "import numpy as np\n",
    "import pandas as pd\n",
    "import matplotlib.pyplot as plt\n",
    "import seaborn\n",
    "%matplotlib inline "
   ]
  },
  {
   "cell_type": "code",
   "execution_count": 4,
   "metadata": {
    "collapsed": false,
    "jupyter": {
     "outputs_hidden": false
    }
   },
   "outputs": [],
   "source": [
    "df = pd.read_table('co2_mm_mlo.txt', skiprows=72, delim_whitespace=True,header=None)"
   ]
  },
  {
   "cell_type": "code",
   "execution_count": 5,
   "metadata": {},
   "outputs": [
    {
     "data": {
      "text/html": [
       "<div>\n",
       "<style scoped>\n",
       "    .dataframe tbody tr th:only-of-type {\n",
       "        vertical-align: middle;\n",
       "    }\n",
       "\n",
       "    .dataframe tbody tr th {\n",
       "        vertical-align: top;\n",
       "    }\n",
       "\n",
       "    .dataframe thead th {\n",
       "        text-align: right;\n",
       "    }\n",
       "</style>\n",
       "<table border=\"1\" class=\"dataframe\">\n",
       "  <thead>\n",
       "    <tr style=\"text-align: right;\">\n",
       "      <th></th>\n",
       "      <th>0</th>\n",
       "      <th>1</th>\n",
       "      <th>2</th>\n",
       "      <th>3</th>\n",
       "      <th>4</th>\n",
       "      <th>5</th>\n",
       "      <th>6</th>\n",
       "    </tr>\n",
       "  </thead>\n",
       "  <tbody>\n",
       "    <tr>\n",
       "      <th>0</th>\n",
       "      <td>1958</td>\n",
       "      <td>3</td>\n",
       "      <td>1958.208</td>\n",
       "      <td>315.71</td>\n",
       "      <td>315.71</td>\n",
       "      <td>314.62</td>\n",
       "      <td>-1</td>\n",
       "    </tr>\n",
       "    <tr>\n",
       "      <th>1</th>\n",
       "      <td>1958</td>\n",
       "      <td>4</td>\n",
       "      <td>1958.292</td>\n",
       "      <td>317.45</td>\n",
       "      <td>317.45</td>\n",
       "      <td>315.29</td>\n",
       "      <td>-1</td>\n",
       "    </tr>\n",
       "    <tr>\n",
       "      <th>2</th>\n",
       "      <td>1958</td>\n",
       "      <td>5</td>\n",
       "      <td>1958.375</td>\n",
       "      <td>317.50</td>\n",
       "      <td>317.50</td>\n",
       "      <td>314.71</td>\n",
       "      <td>-1</td>\n",
       "    </tr>\n",
       "    <tr>\n",
       "      <th>3</th>\n",
       "      <td>1958</td>\n",
       "      <td>6</td>\n",
       "      <td>1958.458</td>\n",
       "      <td>-99.99</td>\n",
       "      <td>317.10</td>\n",
       "      <td>314.85</td>\n",
       "      <td>-1</td>\n",
       "    </tr>\n",
       "    <tr>\n",
       "      <th>4</th>\n",
       "      <td>1958</td>\n",
       "      <td>7</td>\n",
       "      <td>1958.542</td>\n",
       "      <td>315.86</td>\n",
       "      <td>315.86</td>\n",
       "      <td>314.98</td>\n",
       "      <td>-1</td>\n",
       "    </tr>\n",
       "  </tbody>\n",
       "</table>\n",
       "</div>"
      ],
      "text/plain": [
       "      0  1         2       3       4       5  6\n",
       "0  1958  3  1958.208  315.71  315.71  314.62 -1\n",
       "1  1958  4  1958.292  317.45  317.45  315.29 -1\n",
       "2  1958  5  1958.375  317.50  317.50  314.71 -1\n",
       "3  1958  6  1958.458  -99.99  317.10  314.85 -1\n",
       "4  1958  7  1958.542  315.86  315.86  314.98 -1"
      ]
     },
     "execution_count": 5,
     "metadata": {},
     "output_type": "execute_result"
    }
   ],
   "source": [
    "df[:5]"
   ]
  },
  {
   "cell_type": "code",
   "execution_count": 6,
   "metadata": {
    "collapsed": false,
    "jupyter": {
     "outputs_hidden": false
    }
   },
   "outputs": [],
   "source": [
    "x = np.array(df[[2]])\n",
    "Y = np.array(df[[4]])"
   ]
  },
  {
   "cell_type": "markdown",
   "metadata": {},
   "source": [
    "We've seen that the 2nd order polinomial $ y = w_0 + w_1 x + w_2 x^2 $, with parameters\n",
    "\n",
    "$w_0 = 4.75\\times 10^4$,\n",
    "\n",
    "$w_1 = -49.0$ , and\n",
    "\n",
    "$w_2 = 1.27 \\times 10^{-2}$,\n",
    "\n",
    "represents a good fit for this data set.\n",
    "\n",
    "Here we want to solve this optimization problem again, using a **gradient descent** numerical algorithm."
   ]
  },
  {
   "cell_type": "markdown",
   "metadata": {},
   "source": [
    "## Gradient Descent\n",
    "\n",
    "$\n",
    "\\textrm{Gradient:} \n",
    "\\quad\n",
    "\\nabla_{\\theta}J = \\frac{1}{m}X^T (X\\theta-Y)\n",
    "$\n",
    "\n",
    "$\n",
    "\\textrm{Gradient descent:} \n",
    "\\quad\n",
    "\\theta = \\theta -\\epsilon\\ \\nabla_{\\theta}J \\quad \\textrm{until convergence to } \\theta^*\n",
    "$"
   ]
  },
  {
   "cell_type": "code",
   "execution_count": 7,
   "metadata": {},
   "outputs": [],
   "source": [
    "def gradient_linear(X,Y,theta):\n",
    "    return np.dot(X.T,(np.dot(X,theta)-Y))/len(X)"
   ]
  },
  {
   "cell_type": "markdown",
   "metadata": {},
   "source": [
    "This algorithm is not goin to work, unless you normalize the features first."
   ]
  },
  {
   "cell_type": "markdown",
   "metadata": {},
   "source": [
    "### Feature Normalization\n",
    "\n",
    "$$\n",
    "\\chi_0 = 1\n",
    "\\quad , \\quad\n",
    "\\chi_1 = \\frac{x-\\langle x\\rangle}{\\sigma_x}\n",
    "\\quad , \\quad\n",
    "\\chi_2 = \\frac{x^2-\\langle x^2\\rangle}{\\sigma_{x^2}}\n",
    "$$\n",
    "\n",
    "Therefore,\n",
    "\n",
    "\\begin{eqnarray}\n",
    "y  & = & w_0 + w_1 x + w_2 x^2  \\\\\n",
    "   & = & \\omega_0 + \\omega_1 \\chi_1 + \\omega_2 \\chi_2\n",
    "\\end{eqnarray}\n",
    "\n",
    "With \n",
    "\n",
    "\\begin{eqnarray}\n",
    "\\omega_0 & = & w_0 + \\langle x\\rangle w_1 + \\langle x^2\\rangle w_2   \\\\[1mm]\n",
    "\\omega_1 & = & \\sigma_x w_1\\\\[1mm]\n",
    "\\omega_2 & = & \\sigma_x^2 w_2\n",
    "\\end{eqnarray}\n",
    "\n",
    "or\n",
    "\n",
    "\\begin{eqnarray}\n",
    "w_0 & = & \\frac{\\omega_1 }{ \\sigma_x }   \\\\[2mm]\n",
    "w_1 & = & \\frac{\\omega_2 }{ \\sigma_{x^2} } \\\\[2mm]\n",
    "w_2 & = & \\omega_0 -\\frac{\\langle x\\rangle}{\\sigma_x} \\omega_1 -\\frac{\\langle x^2\\rangle}{\\sigma_{x^2}} \\omega_2\n",
    "\\end{eqnarray}\n"
   ]
  },
  {
   "cell_type": "code",
   "execution_count": 8,
   "metadata": {
    "collapsed": false,
    "jupyter": {
     "outputs_hidden": false
    }
   },
   "outputs": [],
   "source": [
    "chi0 = x**0;\n",
    "chi1 = (x-np.mean(x))/np.std(x);\n",
    "chi2 = (x**2-np.mean(x**2))/np.std(x**2);\n",
    "X = np.hstack((chi0 , chi1 , chi2))"
   ]
  },
  {
   "cell_type": "code",
   "execution_count": 10,
   "metadata": {},
   "outputs": [
    {
     "name": "stdout",
     "output_type": "stream",
     "text": [
      "[[  1.00000000e+00  -1.13852623e+02  -5.69302641e+01]\n",
      " [  0.00000000e+00   5.72579305e-02   0.00000000e+00]\n",
      " [  0.00000000e+00   0.00000000e+00   1.43977592e-05]]\n"
     ]
    }
   ],
   "source": [
    "R = np.array([[1.,-np.mean(x**1)/np.std(x**1),-np.mean(x**2)/np.std(x**2)],\n",
    "[0.,1./np.std(x**1),0.],\n",
    "[0.,0.,1./np.std(x**2)]])\n",
    "\n",
    "print(R)"
   ]
  },
  {
   "cell_type": "code",
   "execution_count": 11,
   "metadata": {},
   "outputs": [],
   "source": [
    "theta = np.zeros((3,1))"
   ]
  },
  {
   "cell_type": "code",
   "execution_count": 12,
   "metadata": {
    "collapsed": false,
    "jupyter": {
     "outputs_hidden": false
    }
   },
   "outputs": [],
   "source": [
    "epsilon = .6"
   ]
  },
  {
   "cell_type": "code",
   "execution_count": 13,
   "metadata": {
    "collapsed": false,
    "jupyter": {
     "outputs_hidden": false
    }
   },
   "outputs": [
    {
     "name": "stdout",
     "output_type": "stream",
     "text": [
      "[[ 353.56853994]\n",
      " [-847.48543138]\n",
      " [ 874.55551701]]\n"
     ]
    }
   ],
   "source": [
    "for i in range(0, int(1e+6)):\n",
    "    theta = theta - epsilon*gradient_linear(X,Y,theta)\n",
    "print theta"
   ]
  },
  {
   "cell_type": "code",
   "execution_count": 14,
   "metadata": {
    "collapsed": false,
    "jupyter": {
     "outputs_hidden": false
    }
   },
   "outputs": [
    {
     "data": {
      "text/plain": [
       "array([[  4.70533316e+04],\n",
       "       [ -4.85252619e+01],\n",
       "       [  1.25916398e-02]])"
      ]
     },
     "execution_count": 14,
     "metadata": {},
     "output_type": "execute_result"
    }
   ],
   "source": [
    "np.dot(R,theta)"
   ]
  },
  {
   "cell_type": "markdown",
   "metadata": {},
   "source": [
    "### Cost Function Visualization "
   ]
  },
  {
   "cell_type": "code",
   "execution_count": 15,
   "metadata": {},
   "outputs": [],
   "source": [
    "# Objective function\n",
    "def objective_function_linear(X,Y,theta):\n",
    "    return (X.dot(theta)-Y).T.dot(X.dot(theta)-Y)[0][0]/2./len(Y)"
   ]
  },
  {
   "cell_type": "code",
   "execution_count": 39,
   "metadata": {
    "collapsed": false,
    "jupyter": {
     "outputs_hidden": false
    }
   },
   "outputs": [],
   "source": [
    "theta = np.zeros((3,1))\n",
    "epsilon = 1.\n",
    "\n",
    "step=list()\n",
    "objective=list()\n",
    "\n",
    "for i in range(0, 1000):\n",
    "    for j in range(0,1000):\n",
    "        theta = theta - epsilon*gradient_linear(X,Y,theta)\n",
    "    step.append(i)\n",
    "    objective.append(objective_function_linear(X,Y,theta))"
   ]
  },
  {
   "cell_type": "code",
   "execution_count": 40,
   "metadata": {},
   "outputs": [
    {
     "data": {
      "image/png": "[encoded data removed]",
      "text/plain": [
       "<Figure size 432x288 with 1 Axes>"
      ]
     },
     "metadata": {
      "needs_background": "light"
     },
     "output_type": "display_data"
    }
   ],
   "source": [
    "plt.plot(step, objective,color='dodgerblue');\n",
    "plt.xlabel('number of iterations (1K)',size=12);\n",
    "plt.ylabel('objective function, J',size=12);"
   ]
  },
  {
   "cell_type": "code",
   "execution_count": 41,
   "metadata": {
    "collapsed": false,
    "jupyter": {
     "outputs_hidden": false
    }
   },
   "outputs": [
    {
     "name": "stdout",
     "output_type": "stream",
     "text": [
      "w0 = 47516\n",
      "w1 = -49.0\n",
      "w2 = 0.0127\n"
     ]
    }
   ],
   "source": [
    "print 'w0 = ' + '{:03.0f}'.format(np.dot(R,theta)[0][0])\n",
    "print 'w1 = ' + '{:03.1f}'.format(np.dot(R,theta)[1][0])\n",
    "print 'w2 = ' + '{:03.4f}'.format(np.dot(R,theta)[2][0])"
   ]
  },
  {
   "cell_type": "code",
   "execution_count": 42,
   "metadata": {},
   "outputs": [
    {
     "data": {
      "text/plain": [
       "2.4433754731608213"
      ]
     },
     "execution_count": 42,
     "metadata": {},
     "output_type": "execute_result"
    }
   ],
   "source": [
    "cost[-1]"
   ]
  }
 ],
 "metadata": {
  "kernelspec": {
   "display_name": "Python 2",
   "language": "python",
   "name": "python2"
  },
  "language_info": {
   "codemirror_mode": {
    "name": "ipython",
    "version": 2
   },
   "file_extension": ".py",
   "mimetype": "text/x-python",
   "name": "python",
   "nbconvert_exporter": "python",
   "pygments_lexer": "ipython2",
   "version": "2.7.14"
  }
 },
 "nbformat": 4,
 "nbformat_minor": 4
}
