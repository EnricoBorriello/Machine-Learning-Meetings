{
 "cells": [
  {
   "cell_type": "markdown",
   "metadata": {},
   "source": [
    "# ML 03 - Logistic Regression 1 (warm-up)\n",
    "\n",
    "**Assignment:** Develop a logistic regression algorithm for the binary classification of the labeled data $\\{(x_1^{(t)},x_2^{(t)},y^{(t)})\\}_{t=1,\\dots,m}$ contained in the file **``warm-up_logreg_data.csv``**. To visualize the result, draw a **decision boundary** at $50\\%$, i.e. the contour of the region of the $(x_1,x_2)$ plane where $p(y=1\\,|\\,x_1,x_2)\\geq50\\%$. "
   ]
  },
  {
   "cell_type": "code",
   "execution_count": null,
   "metadata": {
    "collapsed": true
   },
   "outputs": [],
   "source": [
    "import numpy as np\n",
    "import pandas as pd\n",
    "import matplotlib.pyplot as plt\n",
    "import seaborn\n",
    "%matplotlib inline "
   ]
  },
  {
   "cell_type": "code",
   "execution_count": null,
   "metadata": {
    "collapsed": false
   },
   "outputs": [],
   "source": [
    "df = pd.read_csv('warm-up_logreg_data.csv',names=['feature 1','feature 2','class'])"
   ]
  },
  {
   "cell_type": "code",
   "execution_count": null,
   "metadata": {
    "collapsed": false
   },
   "outputs": [],
   "source": [
    "x1 = np.array(df[[0]])\n",
    "x2 = np.array(df[[1]])\n",
    "Y = np.array(df[[2]])"
   ]
  },
  {
   "cell_type": "code",
   "execution_count": null,
   "metadata": {
    "collapsed": false
   },
   "outputs": [],
   "source": [
    "label = Y\n",
    "colors = ['gray','orange']\n",
    "fig = plt.figure(figsize=(6,6))\n",
    "plt.scatter(x1, x2, c=label, cmap=matplotlib.colors.ListedColormap(colors))\n",
    "plt.xlim(-1.2, 1.2)\n",
    "plt.ylim(-1.2, 1.2)\n",
    "plt.xlabel('feature 1')\n",
    "plt.ylabel('feature 2')\n",
    "plt.legend()"
   ]
  }
 ],
 "metadata": {
  "kernelspec": {
   "display_name": "Python 2",
   "language": "python",
   "name": "python2"
  },
  "language_info": {
   "codemirror_mode": {
    "name": "ipython",
    "version": 2
   },
   "file_extension": ".py",
   "mimetype": "text/x-python",
   "name": "python",
   "nbconvert_exporter": "python",
   "pygments_lexer": "ipython2",
   "version": "2.7.12"
  }
 },
 "nbformat": 4,
 "nbformat_minor": 0
}
