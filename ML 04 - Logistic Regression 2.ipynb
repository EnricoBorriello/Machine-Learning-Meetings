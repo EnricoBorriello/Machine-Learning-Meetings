{
 "cells": [
  {
   "cell_type": "markdown",
   "metadata": {},
   "source": [
    "# ML 04 - Logistic Regression 2\n",
    "\n",
    "## Breast Cancer Data Set\n",
    "\n",
    "Download the data file **``wdbc.data``** from <br />\n",
    "https://archive.ics.uci.edu/ml/machine-learning-databases/breast-cancer-wisconsin/\n",
    "\n",
    "Related research paper: <br />\n",
    "https://www.ncbi.nlm.nih.gov/pubmed/8168063"
   ]
  },
  {
   "cell_type": "code",
   "execution_count": null,
   "metadata": {
    "collapsed": true
   },
   "outputs": [],
   "source": [
    "import numpy as np\n",
    "import pandas as pd\n",
    "import matplotlib.pyplot as plt\n",
    "import seaborn\n",
    "%matplotlib inline "
   ]
  },
  {
   "cell_type": "code",
   "execution_count": null,
   "metadata": {
    "collapsed": false
   },
   "outputs": [],
   "source": [
    "df = pd.read_table('wdbc.data',delimiter = ',',header=None)"
   ]
  },
  {
   "cell_type": "code",
   "execution_count": null,
   "metadata": {
    "collapsed": false,
    "scrolled": true
   },
   "outputs": [],
   "source": [
    "df[:10]"
   ]
  },
  {
   "cell_type": "markdown",
   "metadata": {},
   "source": [
    "The 1st column represents an ID, and it is irrelevant to our analysis. The 2nd column is the diagnosis: B = benign, M = malignant. The remaining 30 columns are features.\n",
    "\n",
    "**Assignment:** Randomly select 20% of your data to be your **test set**. Use the remaining data as your **training set**. Use the training set to develop and train a logistic regression algorithm for the binary classification (B vs M) of this data set. Test the **accuracy** of your classifier over your test set. "
   ]
  }
 ],
 "metadata": {
  "kernelspec": {
   "display_name": "Python 2",
   "language": "python",
   "name": "python2"
  },
  "language_info": {
   "codemirror_mode": {
    "name": "ipython",
    "version": 2
   },
   "file_extension": ".py",
   "mimetype": "text/x-python",
   "name": "python",
   "nbconvert_exporter": "python",
   "pygments_lexer": "ipython2",
   "version": "2.7.12"
  }
 },
 "nbformat": 4,
 "nbformat_minor": 0
}
