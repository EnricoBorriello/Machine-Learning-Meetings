{
 "cells": [
  {
   "cell_type": "markdown",
   "metadata": {
    "collapsed": true
   },
   "source": [
    "# ML 01 - Linear Regression\n",
    "\n",
    "## Atmospheric CO<sub>2</sub> levels\n",
    "Mauna Loa Observatory, Hawaii 1958 - 2018\n",
    "\n",
    "Download the data file **``co2_mm_mlo.txt``** from <br />\n",
    "https://climate.nasa.gov/vital-signs/carbon-dioxide/"
   ]
  },
  {
   "cell_type": "code",
   "execution_count": null,
   "metadata": {
    "collapsed": true
   },
   "outputs": [],
   "source": [
    "import numpy as np\n",
    "import pandas as pd\n",
    "import matplotlib.pyplot as plt\n",
    "import seaborn\n",
    "%matplotlib inline "
   ]
  },
  {
   "cell_type": "code",
   "execution_count": null,
   "metadata": {
    "collapsed": false
   },
   "outputs": [],
   "source": [
    "df = pd.read_table('co2_mm_mlo.txt', skiprows=72, delim_whitespace=True)"
   ]
  },
  {
   "cell_type": "code",
   "execution_count": null,
   "metadata": {
    "collapsed": false
   },
   "outputs": [],
   "source": [
    "x = np.array(df[[2]])\n",
    "Y = np.array(df[[4]])\n",
    "m = len(x)\n",
    "print m"
   ]
  },
  {
   "cell_type": "code",
   "execution_count": null,
   "metadata": {
    "collapsed": false
   },
   "outputs": [],
   "source": [
    "plt.plot( x, Y, color='dodgerblue')\n",
    "plt.xlabel('year')\n",
    "plt.ylabel('CO2 (parts per million)');"
   ]
  },
  {
   "cell_type": "markdown",
   "metadata": {},
   "source": [
    "## Linear fit \n",
    "\n",
    "$\n",
    "\\textrm{Model:} \\quad\\hat{y} = w_0 + w_1 x\n",
    "$\n",
    "\n",
    "$\n",
    "\\textrm{Training set:} \\quad\n",
    "\\{(x^{(1)},y^{(1)})\\},\\dots,\\{(x^{(m)},y^{(m)})\\}\n",
    "$\n",
    "\n",
    "$\n",
    "\\textrm{Design matrix:} \\quad \n",
    "X = \\left[\n",
    "\\begin{array}\n",
    "1 1 & x^{(1)}\\\\\n",
    "1 & x^{(2)}\\\\\n",
    "\\vdots & \\vdots\\\\\n",
    "1 & x^{(m)}\n",
    "\\end{array}\n",
    "\\right]\n",
    "%\n",
    "\\quad , \\quad\n",
    "Y = \\left[\n",
    "\\begin{array}\n",
    "1 y^{(1)}\\\\\n",
    "y^{(2)}\\\\\n",
    "\\vdots \\\\\n",
    "y^{(m)}\n",
    "\\end{array}\n",
    "\\right]\n",
    "%\n",
    "\\quad , \\quad\n",
    "\\theta^* = \\left[\n",
    "\\begin{array}\n",
    "1 w_0\\\\\n",
    "w_1\n",
    "\\end{array}\n",
    "\\right]\n",
    "$\n",
    "\n",
    "\n",
    "$\n",
    "\\textrm{Normal equation:} \n",
    "\\quad\n",
    "\\theta^* = (X^T X)^{-1}X^T Y\n",
    "$\n",
    "\n",
    "$\n",
    "\\textrm{Cost function:} \n",
    "\\quad\n",
    "J(\\theta) = \\frac{1}{2m} (X \\theta-Y)^T  (X \\theta-Y) \n",
    "$\n",
    "\n",
    " \n"
   ]
  },
  {
   "cell_type": "code",
   "execution_count": null,
   "metadata": {
    "collapsed": false
   },
   "outputs": [],
   "source": [
    "# Normal equation\n",
    "def best_fit_parameters(X,Y):\n",
    "    return np.linalg.inv(X.T.dot(X)).dot(X.T).dot(Y) "
   ]
  },
  {
   "cell_type": "code",
   "execution_count": null,
   "metadata": {
    "collapsed": true
   },
   "outputs": [],
   "source": [
    "# Cost function\n",
    "def cost_function(X,Y,theta):\n",
    "    return (X.dot(theta)-Y).T.dot(X.dot(theta)-Y)[0][0]/2./len(Y)"
   ]
  },
  {
   "cell_type": "code",
   "execution_count": null,
   "metadata": {
    "collapsed": true
   },
   "outputs": [],
   "source": [
    "# design matrix\n",
    "X = np.hstack((x**0 , x))"
   ]
  },
  {
   "cell_type": "code",
   "execution_count": null,
   "metadata": {
    "collapsed": false
   },
   "outputs": [],
   "source": [
    "theta = best_fit_parameters(X,Y)\n",
    "fit = 'y = ' + '{:03.2f}'.format(theta[0][0]) + ' + {:03.2f}'.format(theta[1][0]) + ' x'\n",
    "print fit\n",
    "print 'J = ' + '{:03.2f}'.format(cost_function(X,Y,theta))"
   ]
  },
  {
   "cell_type": "code",
   "execution_count": null,
   "metadata": {
    "collapsed": false
   },
   "outputs": [],
   "source": [
    "plt.plot(x , Y , color = 'dodgerblue')\n",
    "plt.plot(x, theta[0] + theta[1]*x, '-k', label='linear fit')\n",
    "plt.xlabel('year')\n",
    "plt.ylabel('CO2 (parts per million)');"
   ]
  },
  {
   "cell_type": "code",
   "execution_count": null,
   "metadata": {
    "collapsed": false
   },
   "outputs": [],
   "source": [
    "del X, theta"
   ]
  },
  {
   "cell_type": "markdown",
   "metadata": {},
   "source": [
    "## Quadratic fit \n",
    "\n",
    "$\n",
    "\\textrm{Model:} \\quad \\hat{y} = w_0 + w_1 x + w_2 x^2\n",
    "$\n",
    "\n",
    "\n",
    "\n",
    "$\n",
    "\\textrm{Design matrix:} \\quad \n",
    "X = \\left[\n",
    "\\begin{array}\n",
    "1 1 & x^{(1)} & (x^{(1)})^2 \\\\\n",
    "1   & x^{(2)} & (x^{(2)})^2 \\\\\n",
    "\\vdots & \\vdots & \\vdots\\\\\n",
    "1 & x^{(m)} & (x^{(m)})^2\n",
    "\\end{array}\n",
    "\\right]\n",
    "%\n",
    "\\quad , \\quad\n",
    "%\n",
    "\\theta^* = \\left[\n",
    "\\begin{array}\n",
    "1 w_0\\\\\n",
    "w_1 \\\\\n",
    "w_2\n",
    "\\end{array}\n",
    "\\right]\n",
    "$\n",
    "\n",
    "Anything else stays the same.\n"
   ]
  },
  {
   "cell_type": "code",
   "execution_count": null,
   "metadata": {
    "collapsed": true
   },
   "outputs": [],
   "source": [
    "X = np.hstack((x**0 , x , x**2)) # design matrix with quadratic terms"
   ]
  },
  {
   "cell_type": "code",
   "execution_count": null,
   "metadata": {
    "collapsed": false
   },
   "outputs": [],
   "source": [
    "theta = best_fit_parameters(X,Y)\n",
    "fit = 'y = ' + '{:03.2f}'.format(theta[0][0]) + ' + {:03.2f}'.format(theta[1][0]) + ' x'+ ' + {:03.2f}'.format(theta[2][0]) + ' x^2'\n",
    "print fit\n",
    "print 'J = ' + '{:03.2f}'.format(cost_function(X,Y,theta))"
   ]
  },
  {
   "cell_type": "markdown",
   "metadata": {},
   "source": [
    "This is a better fit. <br />\n",
    "The minimum of the cost function is lowered by the inclusion of a quadratic term."
   ]
  },
  {
   "cell_type": "code",
   "execution_count": null,
   "metadata": {
    "collapsed": false
   },
   "outputs": [],
   "source": [
    "plt.plot(x , Y , color = 'dodgerblue')\n",
    "plt.plot(x, theta[0] + theta[1]*x + theta[2]*x**2, '-k', label='linear fit')\n",
    "plt.xlabel('year')\n",
    "plt.ylabel('CO2 (parts per million)');"
   ]
  },
  {
   "cell_type": "markdown",
   "metadata": {},
   "source": [
    "**Question:** Do you get an even better agreement if you keep increasing the order of the fitting polinomial? If not, why?"
   ]
  }
 ],
 "metadata": {
  "kernelspec": {
   "display_name": "Python 2",
   "language": "python",
   "name": "python2"
  },
  "language_info": {
   "codemirror_mode": {
    "name": "ipython",
    "version": 2
   },
   "file_extension": ".py",
   "mimetype": "text/x-python",
   "name": "python",
   "nbconvert_exporter": "python",
   "pygments_lexer": "ipython2",
   "version": "2.7.12"
  }
 },
 "nbformat": 4,
 "nbformat_minor": 0
}
