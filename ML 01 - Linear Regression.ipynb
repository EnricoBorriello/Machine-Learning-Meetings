{
 "cells": [
  {
   "cell_type": "markdown",
   "metadata": {
    "collapsed": true
   },
   "source": [
    "# ML 01 - Linear Regression\n",
    "Enrico Borriello, Sept 2018 - enrico.borriello@asu.edu\n",
    "\n",
    "In this first tutorial we will use the following dataset:\n",
    "\n",
    "## Atmospheric CO<sub>2</sub> levels\n",
    "Mauna Loa Observatory, Hawaii 1958 - 2018\n",
    "\n",
    "Download the data file **``co2_mm_mlo.txt``** from <br />\n",
    "https://climate.nasa.gov/vital-signs/carbon-dioxide/"
   ]
  },
  {
   "cell_type": "code",
   "execution_count": 15,
   "metadata": {},
   "outputs": [],
   "source": [
    "import numpy as np\n",
    "import pandas as pd\n",
    "import matplotlib.pyplot as plt\n",
    "import seaborn\n",
    "%matplotlib inline \n",
    "\n",
    "import linear_regression as lr"
   ]
  },
  {
   "cell_type": "code",
   "execution_count": 16,
   "metadata": {},
   "outputs": [],
   "source": [
    "df = pd.read_table('co2_mm_mlo.txt', skiprows=72, delim_whitespace=True,header=None)"
   ]
  },
  {
   "cell_type": "code",
   "execution_count": 17,
   "metadata": {},
   "outputs": [
    {
     "data": {
      "text/html": [
       "<div>\n",
       "<style scoped>\n",
       "    .dataframe tbody tr th:only-of-type {\n",
       "        vertical-align: middle;\n",
       "    }\n",
       "\n",
       "    .dataframe tbody tr th {\n",
       "        vertical-align: top;\n",
       "    }\n",
       "\n",
       "    .dataframe thead th {\n",
       "        text-align: right;\n",
       "    }\n",
       "</style>\n",
       "<table border=\"1\" class=\"dataframe\">\n",
       "  <thead>\n",
       "    <tr style=\"text-align: right;\">\n",
       "      <th></th>\n",
       "      <th>0</th>\n",
       "      <th>1</th>\n",
       "      <th>2</th>\n",
       "      <th>3</th>\n",
       "      <th>4</th>\n",
       "      <th>5</th>\n",
       "      <th>6</th>\n",
       "    </tr>\n",
       "  </thead>\n",
       "  <tbody>\n",
       "    <tr>\n",
       "      <th>0</th>\n",
       "      <td>1958</td>\n",
       "      <td>3</td>\n",
       "      <td>1958.208</td>\n",
       "      <td>315.71</td>\n",
       "      <td>315.71</td>\n",
       "      <td>314.62</td>\n",
       "      <td>-1</td>\n",
       "    </tr>\n",
       "    <tr>\n",
       "      <th>1</th>\n",
       "      <td>1958</td>\n",
       "      <td>4</td>\n",
       "      <td>1958.292</td>\n",
       "      <td>317.45</td>\n",
       "      <td>317.45</td>\n",
       "      <td>315.29</td>\n",
       "      <td>-1</td>\n",
       "    </tr>\n",
       "    <tr>\n",
       "      <th>2</th>\n",
       "      <td>1958</td>\n",
       "      <td>5</td>\n",
       "      <td>1958.375</td>\n",
       "      <td>317.50</td>\n",
       "      <td>317.50</td>\n",
       "      <td>314.71</td>\n",
       "      <td>-1</td>\n",
       "    </tr>\n",
       "    <tr>\n",
       "      <th>3</th>\n",
       "      <td>1958</td>\n",
       "      <td>6</td>\n",
       "      <td>1958.458</td>\n",
       "      <td>-99.99</td>\n",
       "      <td>317.10</td>\n",
       "      <td>314.85</td>\n",
       "      <td>-1</td>\n",
       "    </tr>\n",
       "    <tr>\n",
       "      <th>4</th>\n",
       "      <td>1958</td>\n",
       "      <td>7</td>\n",
       "      <td>1958.542</td>\n",
       "      <td>315.86</td>\n",
       "      <td>315.86</td>\n",
       "      <td>314.98</td>\n",
       "      <td>-1</td>\n",
       "    </tr>\n",
       "  </tbody>\n",
       "</table>\n",
       "</div>"
      ],
      "text/plain": [
       "      0  1         2       3       4       5  6\n",
       "0  1958  3  1958.208  315.71  315.71  314.62 -1\n",
       "1  1958  4  1958.292  317.45  317.45  315.29 -1\n",
       "2  1958  5  1958.375  317.50  317.50  314.71 -1\n",
       "3  1958  6  1958.458  -99.99  317.10  314.85 -1\n",
       "4  1958  7  1958.542  315.86  315.86  314.98 -1"
      ]
     },
     "execution_count": 17,
     "metadata": {},
     "output_type": "execute_result"
    }
   ],
   "source": [
    "# visualize the initial rows\n",
    "df[:5]"
   ]
  },
  {
   "cell_type": "code",
   "execution_count": 39,
   "metadata": {},
   "outputs": [
    {
     "name": "stdout",
     "output_type": "stream",
     "text": [
      "726\n"
     ]
    }
   ],
   "source": [
    "x = np.array(df[[2]])\n",
    "Y = np.array(df[[4]])\n",
    "m = len(x)\n",
    "print(m)"
   ]
  },
  {
   "cell_type": "code",
   "execution_count": 40,
   "metadata": {},
   "outputs": [
    {
     "data": {
      "image/png": "[encoded data removed]",
      "text/plain": [
       "<Figure size 432x288 with 1 Axes>"
      ]
     },
     "metadata": {
      "needs_background": "light"
     },
     "output_type": "display_data"
    }
   ],
   "source": [
    "plt.plot( x, Y)\n",
    "plt.xlabel('year',size=12)\n",
    "plt.ylabel('CO2 (parts per million)',size=12);"
   ]
  },
  {
   "cell_type": "markdown",
   "metadata": {},
   "source": [
    "## Linear fit \n",
    "\n",
    "$\n",
    "\\textrm{Model:} \\quad\\hat{y} = w_0 + w_1 x\n",
    "$\n",
    "\n",
    "$\n",
    "\\textrm{Training set:} \\quad\n",
    "\\{(x^{(1)},y^{(1)})\\},\\dots,\\{(x^{(m)},y^{(m)})\\}\n",
    "$\n",
    "\n",
    "$\n",
    "\\textrm{Design matrix:} \\quad \n",
    "X = \\left[\n",
    "\\begin{array}\n",
    "1 1 & x^{(1)}\\\\\n",
    "1 & x^{(2)}\\\\\n",
    "\\vdots & \\vdots\\\\\n",
    "1 & x^{(m)}\n",
    "\\end{array}\n",
    "\\right]\n",
    "%\n",
    "\\quad , \\quad\n",
    "Y = \\left[\n",
    "\\begin{array}\n",
    "1 y^{(1)}\\\\\n",
    "y^{(2)}\\\\\n",
    "\\vdots \\\\\n",
    "y^{(m)}\n",
    "\\end{array}\n",
    "\\right]\n",
    "%\n",
    "\\quad , \\quad\n",
    "\\theta^* = \\left[\n",
    "\\begin{array}\n",
    "1 w_0\\\\\n",
    "w_1\n",
    "\\end{array}\n",
    "\\right]\n",
    "$\n",
    "\n",
    "\n",
    "$\n",
    "\\textrm{Normal equation:} \n",
    "\\quad\n",
    "\\theta^* = (X^T X)^{-1}X^T Y\n",
    "$\n",
    "\n",
    "$\n",
    "\\textrm{Objective function:} \n",
    "\\quad\n",
    "J(\\theta) = \\frac{1}{2m} (X \\theta-Y)^T  (X \\theta-Y) \n",
    "$\n",
    "\n",
    "Notice that we're using the more compact notation that requires the inclusion of a bias terms column in the design matrix $X$."
   ]
  },
  {
   "cell_type": "code",
   "execution_count": 41,
   "metadata": {},
   "outputs": [],
   "source": [
    "# design matrix\n",
    "X = np.hstack((x**0 , x))"
   ]
  },
  {
   "cell_type": "code",
   "execution_count": 42,
   "metadata": {},
   "outputs": [],
   "source": [
    "# Our package, 'linear_regression.py', solves the normal equation using the command\n",
    "\n",
    "# def best_fit_parameters(X,Y):\n",
    "#     return np.linalg.inv(X.T.dot(X)).dot(X.T).dot(Y)\n",
    "\n",
    "# and defines the objective funtion using the command\n",
    "\n",
    "# def objective_function(X,Y,theta):\n",
    "#     return (X.dot(theta)-Y).T.dot(X.dot(theta)-Y)[0][0]/2./len(Y)"
   ]
  },
  {
   "cell_type": "code",
   "execution_count": 43,
   "metadata": {},
   "outputs": [
    {
     "name": "stdout",
     "output_type": "stream",
     "text": [
      "y = -2727.66 + 1.55 x\n",
      "J = 8.46\n"
     ]
    }
   ],
   "source": [
    "theta = lr.best_fit_parameters(X,Y)\n",
    "fit = 'y = ' + '{:03.2f}'.format(theta[0][0]) + ' + {:03.2f}'.format(theta[1][0]) + ' x'\n",
    "print fit\n",
    "print 'J = ' + '{:03.2f}'.format(lr.objective_function(X,Y,theta))"
   ]
  },
  {
   "cell_type": "code",
   "execution_count": 44,
   "metadata": {},
   "outputs": [
    {
     "data": {
      "image/png": "[encoded data removed]",
      "text/plain": [
       "<Figure size 432x288 with 1 Axes>"
      ]
     },
     "metadata": {
      "needs_background": "light"
     },
     "output_type": "display_data"
    }
   ],
   "source": [
    "plt.plot(x , Y , color = 'dodgerblue')\n",
    "plt.plot(x, theta[0] + theta[1]*x, '-k', label='linear fit')\n",
    "plt.xlabel('year',size=12)\n",
    "plt.ylabel('CO2 (parts per million)',size=12);"
   ]
  },
  {
   "cell_type": "code",
   "execution_count": 45,
   "metadata": {},
   "outputs": [],
   "source": [
    "del X, theta"
   ]
  },
  {
   "cell_type": "markdown",
   "metadata": {},
   "source": [
    "## Quadratic fit \n",
    "\n",
    "We can use the simple formalism of the linear regression to include non-linear terms. In this case, we're redifining the design matrix by explicitly including a quadratic contribution:\n",
    "\n",
    "$\n",
    "\\textrm{Model:} \\quad \\hat{y} = w_0 + w_1 x + w_2 x^2\n",
    "$\n",
    "\n",
    "\n",
    "\n",
    "$\n",
    "\\textrm{Design matrix:} \\quad \n",
    "X = \\left[\n",
    "\\begin{array}\n",
    "1 1 & x^{(1)} & (x^{(1)})^2 \\\\\n",
    "1   & x^{(2)} & (x^{(2)})^2 \\\\\n",
    "\\vdots & \\vdots & \\vdots\\\\\n",
    "1 & x^{(m)} & (x^{(m)})^2\n",
    "\\end{array}\n",
    "\\right]\n",
    "%\n",
    "\\quad , \\quad\n",
    "%\n",
    "\\theta^* = \\left[\n",
    "\\begin{array}\n",
    "1 w_0\\\\\n",
    "w_1 \\\\\n",
    "w_2\n",
    "\\end{array}\n",
    "\\right]\n",
    "$\n",
    "\n",
    "The advantage of using a vectorized form for our normal equation is that it remains formally the same. The only change is in the dimensionality of the matrices and vectors involved."
   ]
  },
  {
   "cell_type": "code",
   "execution_count": 46,
   "metadata": {},
   "outputs": [],
   "source": [
    "X = np.hstack((x**0 , x , x**2)) # design matrix with quadratic terms"
   ]
  },
  {
   "cell_type": "code",
   "execution_count": 47,
   "metadata": {},
   "outputs": [
    {
     "name": "stdout",
     "output_type": "stream",
     "text": [
      "y = 47536.77 + -49.01 x + 0.01 x**2\n",
      "J = 2.44\n"
     ]
    }
   ],
   "source": [
    "theta = lr.best_fit_parameters(X,Y)\n",
    "fit = 'y = ' + '{:03.2f}'.format(theta[0][0]) + ' + {:03.2f}'.format(theta[1][0]) + ' x'+ ' + {:03.2f}'.format(theta[2][0]) + ' x**2'\n",
    "print fit\n",
    "print 'J = ' + '{:03.2f}'.format(lr.objective_function(X,Y,theta))"
   ]
  },
  {
   "cell_type": "markdown",
   "metadata": {},
   "source": [
    "This is a better fit. <br />\n",
    "The minimum of the objective function is lowered by the inclusion of a quadratic term."
   ]
  },
  {
   "cell_type": "code",
   "execution_count": 48,
   "metadata": {},
   "outputs": [
    {
     "data": {
      "image/png": "[encoded data removed]",
      "text/plain": [
       "<Figure size 432x288 with 1 Axes>"
      ]
     },
     "metadata": {
      "needs_background": "light"
     },
     "output_type": "display_data"
    }
   ],
   "source": [
    "plt.plot(x , Y , color = 'dodgerblue')\n",
    "plt.plot(x, theta[0] + theta[1]*x + theta[2]*x**2, '-k', label='linear fit')\n",
    "plt.xlabel('year',size=12)\n",
    "plt.ylabel('CO2 (parts per million)',size=12);"
   ]
  },
  {
   "cell_type": "markdown",
   "metadata": {},
   "source": [
    "**Question:** Do you get an even better agreement if you keep increasing the order of the fitting polinomial? If not, why?"
   ]
  },
  {
   "cell_type": "markdown",
   "metadata": {},
   "source": [
    "**Exercise:** Define a python function for the design matrix of orden $n$ interpolation."
   ]
  },
  {
   "cell_type": "code",
   "execution_count": null,
   "metadata": {},
   "outputs": [],
   "source": []
  }
 ],
 "metadata": {
  "kernelspec": {
   "display_name": "Python 2",
   "language": "python",
   "name": "python2"
  },
  "language_info": {
   "codemirror_mode": {
    "name": "ipython",
    "version": 2
   },
   "file_extension": ".py",
   "mimetype": "text/x-python",
   "name": "python",
   "nbconvert_exporter": "python",
   "pygments_lexer": "ipython2",
   "version": "2.7.14"
  }
 },
 "nbformat": 4,
 "nbformat_minor": 1
}
