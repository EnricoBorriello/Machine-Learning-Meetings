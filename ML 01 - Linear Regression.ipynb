{
 "cells": [
  {
   "cell_type": "markdown",
   "metadata": {
    "collapsed": true
   },
   "source": [
    "# Atmospheric CO<sub>2</sub> levels\n",
    "Mauna Loa Observatory, Hawaii 1958 - 2018\n",
    "\n",
    "Download the data file **``co2_mm_mlo.txt``** from <br />\n",
    "https://climate.nasa.gov/vital-signs/carbon-dioxide/"
   ]
  },
  {
   "cell_type": "code",
   "execution_count": 38,
   "metadata": {
    "collapsed": true
   },
   "outputs": [],
   "source": [
    "import numpy as np\n",
    "import pandas as pd\n",
    "import matplotlib.pyplot as plt\n",
    "import seaborn\n",
    "%matplotlib inline "
   ]
  },
  {
   "cell_type": "code",
   "execution_count": 39,
   "metadata": {
    "collapsed": false
   },
   "outputs": [],
   "source": [
    "df = pd.read_table('co2_mm_mlo.txt', skiprows=72, delim_whitespace=True)"
   ]
  },
  {
   "cell_type": "code",
   "execution_count": 40,
   "metadata": {
    "collapsed": false
   },
   "outputs": [
    {
     "name": "stdout",
     "output_type": "stream",
     "text": [
      "725\n"
     ]
    }
   ],
   "source": [
    "x = np.array(df[[2]])\n",
    "Y = np.array(df[[4]])\n",
    "m = len(x)\n",
    "print m"
   ]
  },
  {
   "cell_type": "code",
   "execution_count": 41,
   "metadata": {
    "collapsed": false
   },
   "outputs": [
    {
     "data": {
      "image/png": "[encoded data removed]",
      "text/plain": [
       "<matplotlib.figure.Figure at 0x11039c890>"
      ]
     },
     "metadata": {},
     "output_type": "display_data"
    }
   ],
   "source": [
    "plt.plot( x, Y, color='dodgerblue')\n",
    "plt.xlabel('year')\n",
    "plt.ylabel('CO2 (parts per million)');"
   ]
  },
  {
   "cell_type": "markdown",
   "metadata": {},
   "source": [
    "## Linear fit \n",
    "\n",
    "$\n",
    "\\textrm{Model:} \\quad\\hat{y} = w_0 + w_1 x\n",
    "$\n",
    "\n",
    "$\n",
    "\\textrm{Training set:} \\quad\n",
    "\\{(x^{(1)},y^{(1)})\\},\\dots,\\{(x^{(m)},y^{(m)})\\}\n",
    "$\n",
    "\n",
    "$\n",
    "\\textrm{Design matrix:} \\quad \n",
    "X = \\left[\n",
    "\\begin{array}\n",
    "1 1 & x^{(1)}\\\\\n",
    "1 & x^{(2)}\\\\\n",
    "\\vdots & \\vdots\\\\\n",
    "1 & x^{(m)}\n",
    "\\end{array}\n",
    "\\right]\n",
    "%\n",
    "\\quad , \\quad\n",
    "Y = \\left[\n",
    "\\begin{array}\n",
    "1 y^{(1)}\\\\\n",
    "y^{(2)}\\\\\n",
    "\\vdots \\\\\n",
    "y^{(m)}\n",
    "\\end{array}\n",
    "\\right]\n",
    "%\n",
    "\\quad , \\quad\n",
    "\\theta^* = \\left[\n",
    "\\begin{array}\n",
    "1 w_0\\\\\n",
    "w_1\n",
    "\\end{array}\n",
    "\\right]\n",
    "$\n",
    "\n",
    "\n",
    "$\n",
    "\\textrm{Normal equation:} \n",
    "\\quad\n",
    "\\theta^* = (X^T X)^{-1}X^T Y\n",
    "$\n",
    "\n",
    "$\n",
    "\\textrm{Cost function:} \n",
    "\\quad\n",
    "J(\\theta) = \\frac{1}{2m} (X \\theta-Y)^T  (X \\theta-Y) \n",
    "$\n",
    "\n",
    " \n"
   ]
  },
  {
   "cell_type": "code",
   "execution_count": 42,
   "metadata": {
    "collapsed": false
   },
   "outputs": [],
   "source": [
    "# Normal equation\n",
    "def best_fit_parameters(X,Y):\n",
    "    return np.linalg.inv(X.T.dot(X)).dot(X.T).dot(Y) "
   ]
  },
  {
   "cell_type": "code",
   "execution_count": 43,
   "metadata": {
    "collapsed": true
   },
   "outputs": [],
   "source": [
    "# Cost function\n",
    "def cost_function(X,Y,theta):\n",
    "    return (X.dot(theta)-Y).T.dot(X.dot(theta)-Y)[0][0]/2./len(Y)"
   ]
  },
  {
   "cell_type": "code",
   "execution_count": 44,
   "metadata": {
    "collapsed": true
   },
   "outputs": [],
   "source": [
    "# design matrix\n",
    "X = np.hstack((x**0 , x))"
   ]
  },
  {
   "cell_type": "code",
   "execution_count": 45,
   "metadata": {
    "collapsed": false
   },
   "outputs": [
    {
     "name": "stdout",
     "output_type": "stream",
     "text": [
      "y = -2730.11 + 1.55 x\n",
      "J = 8.41\n"
     ]
    }
   ],
   "source": [
    "theta = best_fit_parameters(X,Y)\n",
    "fit = 'y = ' + '{:03.2f}'.format(theta[0][0]) + ' + {:03.2f}'.format(theta[1][0]) + ' x'\n",
    "print fit\n",
    "print 'J = ' + '{:03.2f}'.format(cost_function(X,Y,theta))"
   ]
  },
  {
   "cell_type": "code",
   "execution_count": 55,
   "metadata": {
    "collapsed": false
   },
   "outputs": [
    {
     "data": {
      "image/png": "[encoded data removed]",
      "text/plain": [
       "<matplotlib.figure.Figure at 0x11009d610>"
      ]
     },
     "metadata": {},
     "output_type": "display_data"
    }
   ],
   "source": [
    "plt.plot(x , Y , color = 'dodgerblue')\n",
    "plt.plot(x, theta[0] + theta[1]*x, '-k', label='linear fit')\n",
    "plt.xlabel('year')\n",
    "plt.ylabel('CO2 (parts per million)');"
   ]
  },
  {
   "cell_type": "code",
   "execution_count": 56,
   "metadata": {
    "collapsed": false
   },
   "outputs": [],
   "source": [
    "del X, theta"
   ]
  },
  {
   "cell_type": "markdown",
   "metadata": {},
   "source": [
    "## Quadratic fit \n",
    "\n",
    "$\n",
    "\\textrm{Model:} \\quad \\hat{y} = w_0 + w_1 x + w_2 x^2\n",
    "$\n",
    "\n",
    "\n",
    "\n",
    "$\n",
    "\\textrm{Design matrix:} \\quad \n",
    "X = \\left[\n",
    "\\begin{array}\n",
    "1 1 & x^{(1)} & (x^{(1)})^2 \\\\\n",
    "1   & x^{(2)} & (x^{(2)})^2 \\\\\n",
    "\\vdots & \\vdots & \\vdots\\\\\n",
    "1 & x^{(m)} & (x^{(m)})^2\n",
    "\\end{array}\n",
    "\\right]\n",
    "%\n",
    "\\quad , \\quad\n",
    "%\n",
    "\\theta^* = \\left[\n",
    "\\begin{array}\n",
    "1 w_0\\\\\n",
    "w_1 \\\\\n",
    "w_2\n",
    "\\end{array}\n",
    "\\right]\n",
    "$\n",
    "\n",
    "Anything else stays the same.\n"
   ]
  },
  {
   "cell_type": "code",
   "execution_count": 57,
   "metadata": {
    "collapsed": true
   },
   "outputs": [],
   "source": [
    "X = np.hstack((x**0 , x , x**2)) # design matrix with quadratic terms"
   ]
  },
  {
   "cell_type": "markdown",
   "metadata": {},
   "source": [
    "This is a better fit. <br />\n",
    "The minimum of the cost function is lowered by the inclusion of a quadratic term."
   ]
  },
  {
   "cell_type": "code",
   "execution_count": 59,
   "metadata": {
    "collapsed": false
   },
   "outputs": [
    {
     "data": {
      "image/png": "[encoded data removed]",
      "text/plain": [
       "<matplotlib.figure.Figure at 0x110671190>"
      ]
     },
     "metadata": {},
     "output_type": "display_data"
    }
   ],
   "source": [
    "plt.plot(x , Y , color = 'dodgerblue')\n",
    "plt.plot(x, theta[0] + theta[1]*x + theta[2]*x**2, '-k', label='linear fit')\n",
    "plt.xlabel('year')\n",
    "plt.ylabel('CO2 (parts per million)');"
   ]
  },
  {
   "cell_type": "markdown",
   "metadata": {},
   "source": [
    "**Question:** Do you get an even better agreement if you keep increasing the order of the fitting polinomial? If not, why?"
   ]
  },
  {
   "cell_type": "markdown",
   "metadata": {},
   "source": [
    "# Gradient Descent\n",
    "\n",
    "$\n",
    "\\textrm{Gradient:} \n",
    "\\quad\n",
    "\\nabla_{\\theta}J = \\frac{1}{m}X^T (X\\theta-Y)\n",
    "$\n",
    "\n",
    "$\n",
    "\\textrm{Gradient descent:} \n",
    "\\quad\n",
    "\\theta = \\theta -\\epsilon\\ \\nabla_{\\theta}J \\quad \\textrm{until convergence to } \\theta^*\n",
    "$"
   ]
  },
  {
   "cell_type": "code",
   "execution_count": 60,
   "metadata": {
    "collapsed": true
   },
   "outputs": [],
   "source": [
    "def gradient_linear(X,Y,theta):\n",
    "    return np.dot(X.T,(np.dot(X,theta)-Y))/len(X)"
   ]
  },
  {
   "cell_type": "code",
   "execution_count": 61,
   "metadata": {
    "collapsed": false
   },
   "outputs": [],
   "source": [
    "chi0 = x**0;\n",
    "chi1 = (x-np.mean(x))/np.std(x);\n",
    "chi2 = (x**2-np.mean(x**2))/np.std(x**2);\n",
    "X = np.hstack((chi0 , chi1 , chi2))"
   ]
  },
  {
   "cell_type": "code",
   "execution_count": 62,
   "metadata": {
    "collapsed": true
   },
   "outputs": [],
   "source": [
    "R = np.array([[1.,-np.mean(x**1)/np.std(x**1),-np.mean(x**2)/np.std(x**2)],\n",
    "[0.,1./np.std(x**1),0.],\n",
    "[0.,0.,1./np.std(x**2)]])"
   ]
  },
  {
   "cell_type": "code",
   "execution_count": 73,
   "metadata": {
    "collapsed": true
   },
   "outputs": [],
   "source": [
    "theta = np.zeros((3,1))"
   ]
  },
  {
   "cell_type": "code",
   "execution_count": 74,
   "metadata": {
    "collapsed": false
   },
   "outputs": [],
   "source": [
    "epsilon = .6"
   ]
  },
  {
   "cell_type": "code",
   "execution_count": 77,
   "metadata": {
    "collapsed": false
   },
   "outputs": [
    {
     "name": "stdout",
     "output_type": "stream",
     "text": [
      "[[ 353.62075862]\n",
      " [-845.28398693]\n",
      " [ 872.33817571]]\n"
     ]
    }
   ],
   "source": [
    "for i in range(0, int(1e+6)):\n",
    "    theta = theta - epsilon*gradient_linear(X,Y,theta)\n",
    "print theta"
   ]
  },
  {
   "cell_type": "code",
   "execution_count": 78,
   "metadata": {
    "collapsed": false
   },
   "outputs": [
    {
     "data": {
      "text/plain": [
       "array([[  4.69942085e+04],\n",
       "       [ -4.84659717e+01],\n",
       "       [  1.25767761e-02]])"
      ]
     },
     "execution_count": 78,
     "metadata": {},
     "output_type": "execute_result"
    }
   ],
   "source": [
    "np.dot(R,theta)"
   ]
  },
  {
   "cell_type": "code",
   "execution_count": 79,
   "metadata": {
    "collapsed": false
   },
   "outputs": [
    {
     "data": {
      "image/png": "[encoded data removed]",
      "text/plain": [
       "<matplotlib.figure.Figure at 0x1104edc90>"
      ]
     },
     "metadata": {},
     "output_type": "display_data"
    }
   ],
   "source": [
    "theta = np.zeros((3,1))\n",
    "epsilon = 1.\n",
    "\n",
    "step=list()\n",
    "cost=list()\n",
    "\n",
    "for i in range(0, 1000):\n",
    "    for j in range(0,1000):\n",
    "        theta = theta - epsilon*gradient_linear(X,Y,theta)\n",
    "    step.append(i)\n",
    "    cost.append(cost_function(X,Y,theta))\n",
    "plt.plot(step, cost,color='dodgerblue');"
   ]
  },
  {
   "cell_type": "code",
   "execution_count": 87,
   "metadata": {
    "collapsed": false
   },
   "outputs": [
    {
     "name": "stdout",
     "output_type": "stream",
     "text": [
      "w0 = 47459.67\n",
      "w1 = -48.93\n",
      "w2 = 0.01\n"
     ]
    }
   ],
   "source": [
    "print 'w0 = ' + '{:03.2f}'.format(np.dot(R,theta)[0][0])\n",
    "print 'w1 = ' + '{:03.2f}'.format(np.dot(R,theta)[1][0])\n",
    "print 'w2 = ' + '{:03.2f}'.format(np.dot(R,theta)[2][0])"
   ]
  },
  {
   "cell_type": "markdown",
   "metadata": {},
   "source": [
    "# Breast Cancer\n",
    "\n",
    "Download the data file **``wdbc.data``** from <br />\n",
    "https://archive.ics.uci.edu/ml/machine-learning-databases/breast-cancer-wisconsin/\n",
    "\n",
    "Research paper: <br />\n",
    "https://www.ncbi.nlm.nih.gov/pubmed/8168063"
   ]
  },
  {
   "cell_type": "code",
   "execution_count": null,
   "metadata": {
    "collapsed": false
   },
   "outputs": [],
   "source": [
    "df = pd.read_table('wdbc.data',delimiter = ',',header=None)"
   ]
  },
  {
   "cell_type": "code",
   "execution_count": null,
   "metadata": {
    "collapsed": false,
    "scrolled": true
   },
   "outputs": [],
   "source": [
    "df[:10]"
   ]
  },
  {
   "cell_type": "code",
   "execution_count": null,
   "metadata": {
    "collapsed": false
   },
   "outputs": [],
   "source": [
    "X = np.hstack(([[1]]*len(df),np.array(df[np.arange(2,32)])))"
   ]
  },
  {
   "cell_type": "code",
   "execution_count": null,
   "metadata": {
    "collapsed": true
   },
   "outputs": [],
   "source": [
    "def sigmoid(z):\n",
    "    return 1/(1+np.exp(-z))"
   ]
  },
  {
   "cell_type": "markdown",
   "metadata": {},
   "source": [
    "### Testing with MNIST\n",
    "https://www.python-course.eu/neural_network_mnist.php"
   ]
  },
  {
   "cell_type": "code",
   "execution_count": null,
   "metadata": {
    "collapsed": false
   },
   "outputs": [],
   "source": [
    "(2020**2 - 1960**2)"
   ]
  },
  {
   "cell_type": "code",
   "execution_count": null,
   "metadata": {
    "collapsed": true
   },
   "outputs": [],
   "source": []
  }
 ],
 "metadata": {
  "kernelspec": {
   "display_name": "Python 2",
   "language": "python",
   "name": "python2"
  },
  "language_info": {
   "codemirror_mode": {
    "name": "ipython",
    "version": 2
   },
   "file_extension": ".py",
   "mimetype": "text/x-python",
   "name": "python",
   "nbconvert_exporter": "python",
   "pygments_lexer": "ipython2",
   "version": "2.7.12"
  }
 },
 "nbformat": 4,
 "nbformat_minor": 0
}
